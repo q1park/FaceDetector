{
 "cells": [
  {
   "cell_type": "code",
   "execution_count": 39,
   "metadata": {},
   "outputs": [],
   "source": [
    "from glob import glob\n",
    "from PIL import Image\n",
    "import imagehash\n",
    "from typing import List\n",
    "\n",
    "def frame(fname: str) -> int:\n",
    "    \"\"\"for a given file name, return the frame index.\n",
    "    \n",
    "    for example, 'cropped/001.png' returns int 1.\n",
    "    \"\"\"\n",
    "    idx = int(fname.split(\"/\")[1].split(\".\")[0])\n",
    "    return idx\n",
    "\n",
    "\n",
    "def remove_outliers(files: List[str]) -> List[str]:\n",
    "    \"\"\"remove images that are not similar with any other images in the batch.\n",
    "    \n",
    "    files is a sorted list of image file names, sorted by frame index number. this helps us\n",
    "    keep files that are similar to its neighbors.\n",
    "\n",
    "    we want to keep images that are similar with at least one other image in the batch.\n",
    "    this is because we want to find long contiguous blocks of similar images, which would\n",
    "    suggest static faces.\n",
    "    \"\"\"\n",
    "    \n",
    "    stack = []\n",
    "\n",
    "    for i in range(len(files) - 1):\n",
    "        prev_f = files[i]\n",
    "        next_f = files[i + 1]\n",
    "\n",
    "        prev_h = imagehash.average_hash(Image.open(prev_f))\n",
    "        next_h = imagehash.average_hash(Image.open(next_f))\n",
    "\n",
    "        # keep if it's similar\n",
    "        if next_h == prev_h:\n",
    "            stack.append(prev_f)\n",
    "            stack.append(next_f)\n",
    "        else:\n",
    "            pass\n",
    "        \n",
    "    return stack\n",
    "\n",
    "\n",
    "def create_blocks(stack: List[str]) -> List[List[int]]:\n",
    "    \"\"\"create continguous blocks of similar frames.\n",
    "    \"\"\"\n",
    "    MAX_FRAME_DIFF = 2\n",
    "\n",
    "    blocks = []\n",
    "    block = []\n",
    "\n",
    "    for i in range(len(stack) - 1):\n",
    "        p_idx = frame(stack[i])\n",
    "        n_idx = frame(stack[i + 1])\n",
    "\n",
    "        if (n_idx - p_idx) < MAX_FRAME_DIFF:\n",
    "            block.append(p_idx)\n",
    "            block.append(n_idx)\n",
    "        else:\n",
    "            blocks.append(block)\n",
    "            block = []\n",
    "            \n",
    "    return blocks"
   ]
  },
  {
   "cell_type": "code",
   "execution_count": 40,
   "metadata": {},
   "outputs": [
    {
     "data": {
      "text/plain": [
       "[]"
      ]
     },
     "execution_count": 40,
     "metadata": {},
     "output_type": "execute_result"
    }
   ],
   "source": [
    "files = sorted(glob('cropped/*.png'))\n",
    "files[:5]"
   ]
  },
  {
   "cell_type": "code",
   "execution_count": 42,
   "metadata": {},
   "outputs": [],
   "source": [
    "stack = remove_outliers(files)"
   ]
  },
  {
   "cell_type": "code",
   "execution_count": 43,
   "metadata": {},
   "outputs": [
    {
     "data": {
      "text/plain": [
       "[]"
      ]
     },
     "execution_count": 43,
     "metadata": {},
     "output_type": "execute_result"
    }
   ],
   "source": [
    "stack[:5]"
   ]
  },
  {
   "cell_type": "code",
   "execution_count": 44,
   "metadata": {},
   "outputs": [],
   "source": [
    "blocks = create_blocks(stack)\n"
   ]
  },
  {
   "cell_type": "code",
   "execution_count": 45,
   "metadata": {},
   "outputs": [],
   "source": [
    "for block in blocks:\n",
    "    block = set(block)\n",
    "    if len(block) > 10:\n",
    "        print(block)"
   ]
  },
  {
   "cell_type": "code",
   "execution_count": null,
   "metadata": {},
   "outputs": [],
   "source": []
  },
  {
   "cell_type": "code",
   "execution_count": null,
   "metadata": {},
   "outputs": [],
   "source": []
  }
 ],
 "metadata": {
  "kernelspec": {
   "display_name": "Python 3",
   "language": "python",
   "name": "python3"
  },
  "language_info": {
   "codemirror_mode": {
    "name": "ipython",
    "version": 3
   },
   "file_extension": ".py",
   "mimetype": "text/x-python",
   "name": "python",
   "nbconvert_exporter": "python",
   "pygments_lexer": "ipython3",
   "version": "3.8.3"
  }
 },
 "nbformat": 4,
 "nbformat_minor": 4
}
