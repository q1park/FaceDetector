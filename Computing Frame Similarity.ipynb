{
 "cells": [
  {
   "cell_type": "code",
   "execution_count": 11,
   "metadata": {},
   "outputs": [],
   "source": [
    "from glob import glob\n",
    "from PIL import Image\n",
    "import imagehash\n",
    "\n",
    "def frame(fname):\n",
    "    \"\"\"from a given file name, return the frame index.\n",
    "    \n",
    "    for example, 'cropped/001.png' returns int 1.\n",
    "    \"\"\"\n",
    "    idx = int(fname.split(\"/\")[1].split(\".\")[0])\n",
    "    return idx"
   ]
  },
  {
   "cell_type": "code",
   "execution_count": 12,
   "metadata": {},
   "outputs": [
    {
     "data": {
      "text/plain": [
       "['cropped/000.png',\n",
       " 'cropped/001.png',\n",
       " 'cropped/002.png',\n",
       " 'cropped/003.png',\n",
       " 'cropped/004.png']"
      ]
     },
     "execution_count": 12,
     "metadata": {},
     "output_type": "execute_result"
    }
   ],
   "source": [
    "files = sorted(glob('cropped/*.png'))\n",
    "files[:5]"
   ]
  },
  {
   "cell_type": "code",
   "execution_count": 13,
   "metadata": {},
   "outputs": [],
   "source": [
    "stack = []\n",
    "\n",
    "for i in range(len(files) - 1):\n",
    "    prev_f = files[i]\n",
    "    next_f = files[i + 1]\n",
    "    \n",
    "    prev_h = imagehash.average_hash(Image.open(prev_f))\n",
    "    next_h = imagehash.average_hash(Image.open(next_f))\n",
    "\n",
    "    if next_h == prev_h:\n",
    "        stack.append(prev_f)\n",
    "        stack.append(next_f)\n",
    "    else:\n",
    "        pass"
   ]
  },
  {
   "cell_type": "code",
   "execution_count": 14,
   "metadata": {},
   "outputs": [
    {
     "data": {
      "text/plain": [
       "['cropped/001.png',\n",
       " 'cropped/002.png',\n",
       " 'cropped/004.png',\n",
       " 'cropped/005.png',\n",
       " 'cropped/005.png']"
      ]
     },
     "execution_count": 14,
     "metadata": {},
     "output_type": "execute_result"
    }
   ],
   "source": [
    "stack[:5]"
   ]
  },
  {
   "cell_type": "code",
   "execution_count": 15,
   "metadata": {},
   "outputs": [],
   "source": [
    "\"\"\"create continguous blocks of similar frames.\n",
    "\"\"\"\n",
    "MAX_FRAME_DIFF = 2\n",
    "\n",
    "blocks = []\n",
    "block = []\n",
    "\n",
    "for i in range(len(stack) - 1):\n",
    "    p_idx = frame(stack[i])\n",
    "    n_idx = frame(stack[i + 1])\n",
    "    \n",
    "    if (n_idx - p_idx) < MAX_FRAME_DIFF:\n",
    "        block.append(p_idx)\n",
    "        block.append(n_idx)\n",
    "    else:\n",
    "        blocks.append(block)\n",
    "        block = []"
   ]
  },
  {
   "cell_type": "code",
   "execution_count": 17,
   "metadata": {},
   "outputs": [
    {
     "name": "stdout",
     "output_type": "stream",
     "text": [
      "{4, 5, 6, 7, 8, 9, 10, 11, 12, 13, 14, 15, 16, 17, 18, 19, 20, 21, 22, 23, 24, 25, 26}\n",
      "{34, 35, 36, 37, 38, 39, 40, 41, 42, 43, 44, 45, 46, 47, 48}\n",
      "{54, 55, 56, 57, 58, 59, 60, 61, 62, 63, 64, 65, 66, 67, 68, 69, 70, 71, 72, 73, 74, 75, 76, 77, 78, 79, 80, 81, 82, 83, 84}\n",
      "{270, 271, 272, 273, 274, 275, 276, 277, 278, 279, 280, 281, 282, 283}\n"
     ]
    }
   ],
   "source": [
    "for block in blocks:\n",
    "    block = set(block)\n",
    "    if len(block) > 10:\n",
    "        print(block)"
   ]
  },
  {
   "cell_type": "code",
   "execution_count": null,
   "metadata": {},
   "outputs": [],
   "source": []
  },
  {
   "cell_type": "code",
   "execution_count": null,
   "metadata": {},
   "outputs": [],
   "source": []
  }
 ],
 "metadata": {
  "kernelspec": {
   "display_name": "Python 3",
   "language": "python",
   "name": "python3"
  },
  "language_info": {
   "codemirror_mode": {
    "name": "ipython",
    "version": 3
   },
   "file_extension": ".py",
   "mimetype": "text/x-python",
   "name": "python",
   "nbconvert_exporter": "python",
   "pygments_lexer": "ipython3",
   "version": "3.8.3"
  }
 },
 "nbformat": 4,
 "nbformat_minor": 4
}
