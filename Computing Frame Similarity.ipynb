{
 "cells": [
  {
   "cell_type": "code",
   "execution_count": 1,
   "metadata": {},
   "outputs": [],
   "source": [
    "from glob import glob\n",
    "from typing import List\n",
    "from FaceOff import get_frame_idx, get_actor_ids, group_frames_by_actors, remove_outliers_from_snippet, create_snippets\n",
    "\n",
    "from FaceOff import count_static_faces"
   ]
  },
  {
   "cell_type": "code",
   "execution_count": 2,
   "metadata": {},
   "outputs": [
    {
     "name": "stdout",
     "output_type": "stream",
     "text": [
      ">> evaluating actor 0\n",
      ">> evaluating actor 1\n",
      ">> evaluating actor 2\n",
      ">> evaluating actor 3\n",
      ">> evaluating actor 4\n",
      ">> evaluating actor 5\n",
      ">> evaluating actor 6\n",
      ">> evaluating actor 7\n",
      ">> evaluating actor 8\n",
      ">> evaluating actor 9\n",
      ">> evaluating actor 10\n",
      ">> evaluating actor 11\n"
     ]
    },
    {
     "data": {
      "text/plain": [
       "0"
      ]
     },
     "execution_count": 2,
     "metadata": {},
     "output_type": "execute_result"
    }
   ],
   "source": [
    "folder = \"dataset/608832786432738882426817735212\"\n",
    "count_static_faces(folder)"
   ]
  },
  {
   "cell_type": "code",
   "execution_count": 2,
   "metadata": {},
   "outputs": [
    {
     "name": "stdout",
     "output_type": "stream",
     "text": [
      ">> loading folder dataset/608832786432738882426817735212\n",
      ">> evaluating actor 0\n",
      "--------------------------------------------------\n",
      ">> evaluating actor 1\n",
      "--------------------------------------------------\n",
      ">> evaluating actor 2\n",
      "--------------------------------------------------\n",
      ">> evaluating actor 3\n",
      "--------------------------------------------------\n",
      ">> evaluating actor 4\n",
      "--------------------------------------------------\n",
      ">> evaluating actor 5\n",
      "--------------------------------------------------\n",
      ">> evaluating actor 6\n",
      "--------------------------------------------------\n",
      ">> evaluating actor 7\n",
      "--------------------------------------------------\n",
      ">> evaluating actor 8\n",
      "--------------------------------------------------\n",
      ">> evaluating actor 9\n",
      "--------------------------------------------------\n",
      ">> evaluating actor 10\n",
      "--------------------------------------------------\n",
      ">> evaluating actor 11\n",
      "--------------------------------------------------\n",
      "==================================================\n",
      ">> loading folder dataset/709090324988773024868607674872\n",
      "==================================================\n",
      ">> loading folder dataset/547538174468711490516541559363\n",
      ">> evaluating actor 0\n",
      "--------------------------------------------------\n",
      ">> evaluating actor 1\n",
      "--------------------------------------------------\n",
      "==================================================\n"
     ]
    }
   ],
   "source": [
    "# get folders\n",
    "folders = glob(\"dataset/*\")\n",
    "\n",
    "for folder in folders:\n",
    "    print(\">> loading folder\", folder)\n",
    "    \n",
    "    # eval static or not_static folder\n",
    "    label = \"not_static\"\n",
    "    fnames = sorted(glob(folder + '/' + label + '/*'))  # list of images fname\n",
    "    collection_by_actor = group_frames_by_actors(fnames)\n",
    "    \n",
    "    # then evaluate for each actor\n",
    "    for k in collection_by_actor.keys():\n",
    "        print(\">> evaluating actor\", k)\n",
    "        videos_by_id = collection_by_actor[k]  # all videos by actor id\n",
    "        \n",
    "        # convert to snippets\n",
    "        snippets = create_snippets(videos_by_id)  # snippets without outliers removed\n",
    "        \n",
    "        # for each snippet, remove outliers\n",
    "        for snippet in snippets:\n",
    "            processed_snippet = remove_outliers_from_snippet(snippet)\n",
    "            \n",
    "            final_snippets = create_snippets(processed_snippet)  # recreate snippets now that outliers have been removed\n",
    "                \n",
    "            for final in final_snippets:\n",
    "                if len(final) > 10:\n",
    "                    print(\"len\", len(final), final[0])\n",
    "\n",
    "        print(\"-\" * 50)\n",
    "    print(\"=\" * 50)"
   ]
  }
 ],
 "metadata": {
  "kernelspec": {
   "display_name": "Python 3",
   "language": "python",
   "name": "python3"
  },
  "language_info": {
   "codemirror_mode": {
    "name": "ipython",
    "version": 3
   },
   "file_extension": ".py",
   "mimetype": "text/x-python",
   "name": "python",
   "nbconvert_exporter": "python",
   "pygments_lexer": "ipython3",
   "version": "3.8.3"
  }
 },
 "nbformat": 4,
 "nbformat_minor": 4
}
