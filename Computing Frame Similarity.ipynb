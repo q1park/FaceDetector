{
 "cells": [
  {
   "cell_type": "code",
   "execution_count": 31,
   "metadata": {},
   "outputs": [],
   "source": [
    "from glob import glob\n",
    "from PIL import Image\n",
    "import imagehash\n",
    "\n",
    "def frame(fname):\n",
    "    \"\"\"for a given file name, return the frame index.\n",
    "    \n",
    "    for example, 'cropped/001.png' returns int 1.\n",
    "    \"\"\"\n",
    "    idx = int(fname.split(\"/\")[1].split(\".\")[0])\n",
    "    return idx\n",
    "\n",
    "\n",
    "def remove_outliers(files):\n",
    "    \"\"\"remove images that are not similar with any other images in the batch.\n",
    "    \n",
    "    we want to keep images that are similar with at least one other image in the batch.\n",
    "    this is because we want to find long contiguous blocks of similar images, which would\n",
    "    suggest static faces.\n",
    "    \"\"\"\n",
    "    \n",
    "    stack = []\n",
    "\n",
    "    for i in range(len(files) - 1):\n",
    "        prev_f = files[i]\n",
    "        next_f = files[i + 1]\n",
    "\n",
    "        prev_h = imagehash.average_hash(Image.open(prev_f))\n",
    "        next_h = imagehash.average_hash(Image.open(next_f))\n",
    "\n",
    "        # keep if it's similar\n",
    "        if next_h == prev_h:\n",
    "            stack.append(prev_f)\n",
    "            stack.append(next_f)\n",
    "        else:\n",
    "            pass\n",
    "        \n",
    "    return stack\n",
    "\n",
    "\n",
    "def create_blocks(stack):\n",
    "    \"\"\"create continguous blocks of similar frames.\n",
    "    \"\"\"\n",
    "    MAX_FRAME_DIFF = 2\n",
    "\n",
    "    blocks = []\n",
    "    block = []\n",
    "\n",
    "    for i in range(len(stack) - 1):\n",
    "        p_idx = frame(stack[i])\n",
    "        n_idx = frame(stack[i + 1])\n",
    "\n",
    "        if (n_idx - p_idx) < MAX_FRAME_DIFF:\n",
    "            block.append(p_idx)\n",
    "            block.append(n_idx)\n",
    "        else:\n",
    "            blocks.append(block)\n",
    "            block = []\n",
    "            \n",
    "    return blocks"
   ]
  },
  {
   "cell_type": "code",
   "execution_count": 32,
   "metadata": {},
   "outputs": [
    {
     "data": {
      "text/plain": [
       "['cropped/0000.png',\n",
       " 'cropped/0001.png',\n",
       " 'cropped/0002.png',\n",
       " 'cropped/0003.png',\n",
       " 'cropped/0004.png']"
      ]
     },
     "execution_count": 32,
     "metadata": {},
     "output_type": "execute_result"
    }
   ],
   "source": [
    "files = sorted(glob('cropped/*.png'))\n",
    "files[:5]"
   ]
  },
  {
   "cell_type": "code",
   "execution_count": 33,
   "metadata": {},
   "outputs": [],
   "source": [
    "stack = remove_outliers(files)"
   ]
  },
  {
   "cell_type": "code",
   "execution_count": 34,
   "metadata": {},
   "outputs": [
    {
     "data": {
      "text/plain": [
       "['cropped/0002.png',\n",
       " 'cropped/0003.png',\n",
       " 'cropped/0003.png',\n",
       " 'cropped/0004.png',\n",
       " 'cropped/0005.png']"
      ]
     },
     "execution_count": 34,
     "metadata": {},
     "output_type": "execute_result"
    }
   ],
   "source": [
    "stack[:5]"
   ]
  },
  {
   "cell_type": "code",
   "execution_count": 35,
   "metadata": {},
   "outputs": [],
   "source": []
  },
  {
   "cell_type": "code",
   "execution_count": 36,
   "metadata": {},
   "outputs": [],
   "source": [
    "blocks = create_blocks(stack)"
   ]
  },
  {
   "cell_type": "code",
   "execution_count": 37,
   "metadata": {},
   "outputs": [
    {
     "name": "stdout",
     "output_type": "stream",
     "text": [
      "{113, 114, 115, 116, 117, 118, 119}\n",
      "{135, 136, 137, 138, 139, 140, 141, 142, 143, 144, 145, 146, 147, 148, 149, 150, 151, 152, 153, 154, 155, 156, 157, 158, 159, 160, 161, 162, 163, 164, 165, 166, 167, 168}\n",
      "{173, 174, 175, 176, 177, 178, 179, 180, 181}\n",
      "{196, 197, 198, 199, 200, 201, 202, 203, 204, 205, 206, 207, 208, 209, 210}\n",
      "{306, 307, 308, 309, 310, 311, 312}\n"
     ]
    }
   ],
   "source": [
    "for block in blocks:\n",
    "    block = set(block)\n",
    "    if len(block) > 5:\n",
    "        print(block)"
   ]
  },
  {
   "cell_type": "code",
   "execution_count": null,
   "metadata": {},
   "outputs": [],
   "source": []
  },
  {
   "cell_type": "code",
   "execution_count": null,
   "metadata": {},
   "outputs": [],
   "source": []
  }
 ],
 "metadata": {
  "kernelspec": {
   "display_name": "Python 3",
   "language": "python",
   "name": "python3"
  },
  "language_info": {
   "codemirror_mode": {
    "name": "ipython",
    "version": 3
   },
   "file_extension": ".py",
   "mimetype": "text/x-python",
   "name": "python",
   "nbconvert_exporter": "python",
   "pygments_lexer": "ipython3",
   "version": "3.8.3"
  }
 },
 "nbformat": 4,
 "nbformat_minor": 4
}
