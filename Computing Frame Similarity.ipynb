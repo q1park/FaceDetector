{
 "cells": [
  {
   "cell_type": "code",
   "execution_count": 16,
   "metadata": {},
   "outputs": [],
   "source": [
    "from glob import glob\n",
    "from PIL import Image\n",
    "import imagehash\n",
    "from typing import List\n",
    "\n",
    "def frame(fname: str) -> int:\n",
    "    \"\"\"for a given file name, return the frame index.\n",
    "    \n",
    "    for example, 'cropped/001.png' returns int 1.\n",
    "    \"\"\"\n",
    "    idx = int(fname.split(\"/\")[1].split(\".\")[0])\n",
    "    return idx\n",
    "\n",
    "\n",
    "def remove_outliers(files: List[str]) -> List[str]:\n",
    "    \"\"\"remove images that are not similar with any other images in the batch.\n",
    "    \n",
    "    files is a sorted list of image file names, sorted by frame index number. this helps us\n",
    "    keep files that are similar to its neighbors.\n",
    "\n",
    "    we want to keep images that are similar with at least one other image in the batch.\n",
    "    this is because we want to find long contiguous blocks of similar images, which would\n",
    "    suggest static faces.\n",
    "    \"\"\"\n",
    "    \n",
    "    stack = []\n",
    "\n",
    "    for i in range(len(files) - 1):\n",
    "        prev_f = files[i]\n",
    "        next_f = files[i + 1]\n",
    "\n",
    "        prev_h = imagehash.average_hash(Image.open(prev_f))\n",
    "        next_h = imagehash.average_hash(Image.open(next_f))\n",
    "\n",
    "        # keep if it's similar\n",
    "        if next_h == prev_h:\n",
    "            stack.append(prev_f)\n",
    "            stack.append(next_f)\n",
    "        else:\n",
    "            pass\n",
    "        \n",
    "    return stack\n",
    "\n",
    "\n",
    "def create_blocks(stack: List[str]) -> List[List[int]]:\n",
    "    \"\"\"create continguous blocks of similar frames.\n",
    "    \"\"\"\n",
    "    MAX_FRAME_DIFF = 5\n",
    "\n",
    "    blocks = []\n",
    "    block = []\n",
    "\n",
    "    for i in range(len(stack) - 1):\n",
    "        p_idx = frame(stack[i])\n",
    "        n_idx = frame(stack[i + 1])\n",
    "\n",
    "        if (n_idx - p_idx) < MAX_FRAME_DIFF:\n",
    "            block.append(p_idx)\n",
    "            block.append(n_idx)\n",
    "        else:\n",
    "            blocks.append(block)\n",
    "            block = []\n",
    "            \n",
    "    return blocks"
   ]
  },
  {
   "cell_type": "code",
   "execution_count": 28,
   "metadata": {},
   "outputs": [
    {
     "data": {
      "text/plain": [
       "['cropped_static/00084.00000.jpg',\n",
       " 'cropped_static/00088.00001.jpg',\n",
       " 'cropped_static/00092.00001.jpg',\n",
       " 'cropped_static/00096.00001.jpg',\n",
       " 'cropped_static/00100.00001.jpg']"
      ]
     },
     "execution_count": 28,
     "metadata": {},
     "output_type": "execute_result"
    }
   ],
   "source": [
    "files = sorted(glob('cropped_static/*'))\n",
    "files[:5]"
   ]
  },
  {
   "cell_type": "code",
   "execution_count": 29,
   "metadata": {},
   "outputs": [],
   "source": [
    "stack = remove_outliers(files)"
   ]
  },
  {
   "cell_type": "code",
   "execution_count": 30,
   "metadata": {},
   "outputs": [
    {
     "data": {
      "text/plain": [
       "['cropped_static/00084.00000.jpg',\n",
       " 'cropped_static/00088.00001.jpg',\n",
       " 'cropped_static/00100.00001.jpg',\n",
       " 'cropped_static/00104.00001.jpg',\n",
       " 'cropped_static/00108.00001.jpg']"
      ]
     },
     "execution_count": 30,
     "metadata": {},
     "output_type": "execute_result"
    }
   ],
   "source": [
    "stack[:5]"
   ]
  },
  {
   "cell_type": "code",
   "execution_count": 31,
   "metadata": {},
   "outputs": [],
   "source": [
    "blocks = create_blocks(stack)"
   ]
  },
  {
   "cell_type": "code",
   "execution_count": 32,
   "metadata": {},
   "outputs": [
    {
     "name": "stdout",
     "output_type": "stream",
     "text": [
      "{128, 100, 132, 104, 136, 108, 140, 112, 144, 156, 116, 148, 120, 124, 152}\n",
      "{256, 384, 260, 388, 264, 392, 268, 396, 272, 400, 276, 404, 280, 408, 284, 412, 288, 416, 164, 292, 420, 168, 296, 424, 172, 300, 428, 176, 304, 432, 180, 308, 184, 312, 188, 316, 192, 320, 196, 324, 200, 328, 204, 332, 208, 336, 212, 340, 216, 344, 380, 220, 348, 224, 352, 228, 356, 376, 232, 360, 236, 364, 240, 368, 244, 372, 248, 252}\n",
      "{640, 644, 648, 652, 656, 660, 664, 668, 672, 676, 680, 684, 688, 692, 696, 700, 576, 704, 580, 708, 584, 712, 588, 716, 592, 596, 600, 604, 608, 612, 616, 620, 624, 628, 632, 636}\n",
      "{792, 796, 800, 804, 808, 812, 816, 820, 824, 828, 832, 836, 840, 844, 848, 852, 856, 860, 864, 868, 872}\n",
      "{1024, 1028, 1032, 1036, 1040, 1044, 1048, 1052, 1056, 1060, 1064, 1068, 1072, 1076, 1080, 972, 976, 980, 984, 988, 992, 996, 1000, 1004, 1008, 1012, 1016, 1020}\n",
      "{1152, 1156, 1160, 1164, 1168, 1172, 1176, 1180, 1184, 1188, 1192, 1196, 1200, 1204, 1208, 1212, 1216, 1220, 1224, 1228, 1232, 1236, 1240, 1244, 1128, 1132, 1136, 1140, 1144, 1148}\n"
     ]
    }
   ],
   "source": [
    "for block in blocks:\n",
    "    block = set(block)\n",
    "    if len(block) > 10:\n",
    "        print(block)"
   ]
  },
  {
   "cell_type": "code",
   "execution_count": null,
   "metadata": {},
   "outputs": [],
   "source": []
  },
  {
   "cell_type": "code",
   "execution_count": null,
   "metadata": {},
   "outputs": [],
   "source": []
  }
 ],
 "metadata": {
  "kernelspec": {
   "display_name": "Python 3",
   "language": "python",
   "name": "python3"
  },
  "language_info": {
   "codemirror_mode": {
    "name": "ipython",
    "version": 3
   },
   "file_extension": ".py",
   "mimetype": "text/x-python",
   "name": "python",
   "nbconvert_exporter": "python",
   "pygments_lexer": "ipython3",
   "version": "3.8.3"
  }
 },
 "nbformat": 4,
 "nbformat_minor": 4
}
