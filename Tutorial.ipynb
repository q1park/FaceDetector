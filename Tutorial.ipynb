{
 "cells": [
  {
   "cell_type": "code",
   "execution_count": 2,
   "metadata": {},
   "outputs": [],
   "source": [
    "from glob import glob\n",
    "\n",
    "from FaceOff import count_static_faces"
   ]
  },
  {
   "cell_type": "markdown",
   "metadata": {},
   "source": [
    "# Example 1: Non-static faces"
   ]
  },
  {
   "cell_type": "code",
   "execution_count": 10,
   "metadata": {},
   "outputs": [
    {
     "name": "stdout",
     "output_type": "stream",
     "text": [
      ">> loading folder data/test_set/\n",
      ">> evaluating actor 0\n"
     ]
    },
    {
     "data": {
      "text/plain": [
       "0"
      ]
     },
     "execution_count": 10,
     "metadata": {},
     "output_type": "execute_result"
    }
   ],
   "source": [
    "folder = \"data/test_set/\"\n",
    "label = \"not_static\"  # could be static, non_static, or not_static\n",
    "\n",
    "\n",
    "print(\">> loading folder\", folder)\n",
    "fnames = sorted(glob(folder + '/' + label + '/*'))  # list of images fname\n",
    "\n",
    "\n",
    "count_static_faces(fnames, threshold=15)\n"
   ]
  },
  {
   "cell_type": "code",
   "execution_count": 6,
   "metadata": {},
   "outputs": [
    {
     "name": "stdout",
     "output_type": "stream",
     "text": [
      ">> loading folder data/772618238727425802339837018391\n",
      "--------------------------------------------------\n",
      ">> loading folder data/806087047450404136287880143857\n",
      ">> evaluating actor 0\n",
      ">> evaluating actor 1\n",
      ">> evaluating actor 2\n",
      ">> evaluating actor 3\n",
      ">> evaluating actor 4\n",
      "--------------------------------------------------\n",
      ">> loading folder data/608832786432738882426817735212\n",
      ">> evaluating actor 0\n",
      ">> evaluating actor 1\n",
      ">> evaluating actor 2\n",
      ">> evaluating actor 3\n",
      ">> evaluating actor 4\n",
      ">> evaluating actor 5\n",
      ">> evaluating actor 6\n",
      ">> evaluating actor 7\n",
      ">> evaluating actor 8\n",
      ">> evaluating actor 9\n",
      ">> evaluating actor 10\n",
      ">> evaluating actor 11\n",
      "--------------------------------------------------\n",
      ">> loading folder data/026222733229357032096260333663\n",
      ">> evaluating actor 0\n",
      "snippet length: 16 starting with:  data/026222733229357032096260333663/not_static/00252.00000.jpg\n",
      "snippet length: 17 starting with:  data/026222733229357032096260333663/not_static/01504.00000.jpg\n",
      "snippet length: 32 starting with:  data/026222733229357032096260333663/not_static/02428.00000.jpg\n",
      ">> evaluating actor 1\n",
      ">> evaluating actor 3\n",
      ">> evaluating actor 2\n",
      ">> evaluating actor 5\n",
      "--------------------------------------------------\n",
      ">> loading folder data/126925950871386608881203157428\n",
      ">> evaluating actor 0\n",
      "--------------------------------------------------\n",
      ">> loading folder data/172902496309112423897163232087\n",
      ">> evaluating actor 0\n",
      ">> evaluating actor 1\n",
      ">> evaluating actor 2\n",
      "--------------------------------------------------\n",
      ">> loading folder data/709090324988773024868607674872\n",
      "--------------------------------------------------\n",
      ">> loading folder data/192013595673554746258591115198\n",
      ">> evaluating actor 0\n",
      "--------------------------------------------------\n",
      ">> loading folder data/001602115004256813449943694922\n",
      "--------------------------------------------------\n",
      ">> loading folder data/547538174468711490516541559363\n",
      ">> evaluating actor 0\n",
      ">> evaluating actor 1\n",
      "--------------------------------------------------\n"
     ]
    }
   ],
   "source": [
    "folders = glob(\"data/*\")\n",
    "label = \"not_static\"  # could be static, non_static, or not_static\n",
    "\n",
    "for folder in folders:\n",
    "    print(\">> loading folder\", folder)\n",
    "    fnames = sorted(glob(folder + '/' + label + '/*'))  # list of images fname\n",
    "    \n",
    "    try:\n",
    "        count_static_faces(fnames, threshold=15)\n",
    "    except:\n",
    "        pass\n",
    "    print(\"-\" * 50)"
   ]
  },
  {
   "cell_type": "code",
   "execution_count": null,
   "metadata": {},
   "outputs": [],
   "source": []
  }
 ],
 "metadata": {
  "kernelspec": {
   "display_name": "Python 3",
   "language": "python",
   "name": "python3"
  },
  "language_info": {
   "codemirror_mode": {
    "name": "ipython",
    "version": 3
   },
   "file_extension": ".py",
   "mimetype": "text/x-python",
   "name": "python",
   "nbconvert_exporter": "python",
   "pygments_lexer": "ipython3",
   "version": "3.8.3"
  }
 },
 "nbformat": 4,
 "nbformat_minor": 4
}
