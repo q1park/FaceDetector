{
 "cells": [
  {
   "cell_type": "code",
   "execution_count": 2,
   "metadata": {},
   "outputs": [
    {
     "ename": "IndentationError",
     "evalue": "unindent does not match any outer indentation level (Count.py, line 9)",
     "output_type": "error",
     "traceback": [
      "Traceback \u001b[0;36m(most recent call last)\u001b[0m:\n",
      "  File \u001b[1;32m\"/Users/mynameisvinn/anaconda3/lib/python3.8/site-packages/IPython/core/interactiveshell.py\"\u001b[0m, line \u001b[1;32m3343\u001b[0m, in \u001b[1;35mrun_code\u001b[0m\n    exec(code_obj, self.user_global_ns, self.user_ns)\n",
      "  File \u001b[1;32m\"<ipython-input-2-d21537bbd12b>\"\u001b[0m, line \u001b[1;32m4\u001b[0m, in \u001b[1;35m<module>\u001b[0m\n    from FaceOff import get_frame_idx, get_actor_ids, group_frames_by_actors, remove_outliers_from_snippet, create_snippets\n",
      "\u001b[0;36m  File \u001b[0;32m\"/Users/mynameisvinn/Dropbox/Temp/FaceDetector/FaceOff/__init__.py\"\u001b[0;36m, line \u001b[0;32m2\u001b[0;36m, in \u001b[0;35m<module>\u001b[0;36m\u001b[0m\n\u001b[0;31m    from .Count import count_faces\u001b[0m\n",
      "\u001b[0;36m  File \u001b[0;32m\"/Users/mynameisvinn/Dropbox/Temp/FaceDetector/FaceOff/Count.py\"\u001b[0;36m, line \u001b[0;32m9\u001b[0m\n\u001b[0;31m    count = 0\u001b[0m\n\u001b[0m             ^\u001b[0m\n\u001b[0;31mIndentationError\u001b[0m\u001b[0;31m:\u001b[0m unindent does not match any outer indentation level\n"
     ]
    }
   ],
   "source": [
    "from glob import glob\n",
    "from typing import List\n",
    "\n",
    "from FaceOff import get_frame_idx, get_actor_ids, group_frames_by_actors, remove_outliers_from_snippet, create_snippets\n",
    "\n",
    "from FaceOff import count_faces"
   ]
  },
  {
   "cell_type": "code",
   "execution_count": 1,
   "metadata": {},
   "outputs": [
    {
     "ename": "NameError",
     "evalue": "name 'count_static_faces' is not defined",
     "output_type": "error",
     "traceback": [
      "\u001b[0;31m---------------------------------------------------------------------------\u001b[0m",
      "\u001b[0;31mNameError\u001b[0m                                 Traceback (most recent call last)",
      "\u001b[0;32m<ipython-input-1-8abcc86847e9>\u001b[0m in \u001b[0;36m<module>\u001b[0;34m\u001b[0m\n\u001b[1;32m      1\u001b[0m \u001b[0mfolder\u001b[0m \u001b[0;34m=\u001b[0m \u001b[0;34m\"dataset/608832786432738882426817735212\"\u001b[0m\u001b[0;34m\u001b[0m\u001b[0;34m\u001b[0m\u001b[0m\n\u001b[0;32m----> 2\u001b[0;31m \u001b[0mcount_static_faces\u001b[0m\u001b[0;34m(\u001b[0m\u001b[0mfolder\u001b[0m\u001b[0;34m,\u001b[0m \u001b[0mlabel\u001b[0m\u001b[0;34m=\u001b[0m\u001b[0;34m\"not_static\"\u001b[0m\u001b[0;34m)\u001b[0m\u001b[0;34m\u001b[0m\u001b[0;34m\u001b[0m\u001b[0m\n\u001b[0m",
      "\u001b[0;31mNameError\u001b[0m: name 'count_static_faces' is not defined"
     ]
    }
   ],
   "source": [
    "folder = \"dataset/608832786432738882426817735212\"\n",
    "count_faces(folder, label=\"not_static\")"
   ]
  },
  {
   "cell_type": "code",
   "execution_count": 2,
   "metadata": {},
   "outputs": [
    {
     "name": "stdout",
     "output_type": "stream",
     "text": [
      ">> loading folder dataset/608832786432738882426817735212\n",
      ">> evaluating actor 0\n",
      "--------------------------------------------------\n",
      ">> evaluating actor 1\n",
      "--------------------------------------------------\n",
      ">> evaluating actor 2\n",
      "--------------------------------------------------\n",
      ">> evaluating actor 3\n",
      "--------------------------------------------------\n",
      ">> evaluating actor 4\n",
      "--------------------------------------------------\n",
      ">> evaluating actor 5\n",
      "--------------------------------------------------\n",
      ">> evaluating actor 6\n",
      "--------------------------------------------------\n",
      ">> evaluating actor 7\n",
      "--------------------------------------------------\n",
      ">> evaluating actor 8\n",
      "--------------------------------------------------\n",
      ">> evaluating actor 9\n",
      "--------------------------------------------------\n",
      ">> evaluating actor 10\n",
      "--------------------------------------------------\n",
      ">> evaluating actor 11\n",
      "--------------------------------------------------\n",
      "==================================================\n",
      ">> loading folder dataset/709090324988773024868607674872\n",
      "==================================================\n",
      ">> loading folder dataset/547538174468711490516541559363\n",
      ">> evaluating actor 0\n",
      "--------------------------------------------------\n",
      ">> evaluating actor 1\n",
      "--------------------------------------------------\n",
      "==================================================\n"
     ]
    }
   ],
   "source": [
    "# get folders\n",
    "folders = glob(\"dataset/*\")\n",
    "\n",
    "for folder in folders:\n",
    "    print(\">> loading folder\", folder)\n",
    "    \n",
    "    # eval static or not_static folder\n",
    "    label = \"not_static\"\n",
    "    fnames = sorted(glob(folder + '/' + label + '/*'))  # list of images fname\n",
    "    collection_by_actor = group_frames_by_actors(fnames)\n",
    "    \n",
    "    # then evaluate for each actor\n",
    "    for k in collection_by_actor.keys():\n",
    "        print(\">> evaluating actor\", k)\n",
    "        videos_by_id = collection_by_actor[k]  # all videos by actor id\n",
    "        \n",
    "        # convert to snippets\n",
    "        snippets = create_snippets(videos_by_id)  # snippets without outliers removed\n",
    "        \n",
    "        # for each snippet, remove outliers\n",
    "        for snippet in snippets:\n",
    "            processed_snippet = remove_outliers_from_snippet(snippet)\n",
    "            \n",
    "            final_snippets = create_snippets(processed_snippet)  # recreate snippets now that outliers have been removed\n",
    "                \n",
    "            for final in final_snippets:\n",
    "                if len(final) > 10:\n",
    "                    print(\"len\", len(final), final[0])\n",
    "\n",
    "        print(\"-\" * 50)\n",
    "    print(\"=\" * 50)"
   ]
  }
 ],
 "metadata": {
  "kernelspec": {
   "display_name": "Python 3",
   "language": "python",
   "name": "python3"
  },
  "language_info": {
   "codemirror_mode": {
    "name": "ipython",
    "version": 3
   },
   "file_extension": ".py",
   "mimetype": "text/x-python",
   "name": "python",
   "nbconvert_exporter": "python",
   "pygments_lexer": "ipython3",
   "version": "3.8.3"
  }
 },
 "nbformat": 4,
 "nbformat_minor": 4
}
