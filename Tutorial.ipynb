{
 "cells": [
  {
   "cell_type": "code",
   "execution_count": 1,
   "metadata": {},
   "outputs": [],
   "source": [
    "from glob import glob\n",
    "\n",
    "from FaceOff import count_faces"
   ]
  },
  {
   "cell_type": "code",
   "execution_count": 6,
   "metadata": {},
   "outputs": [
    {
     "name": "stdout",
     "output_type": "stream",
     "text": [
      ">> loading folder data/608832786432738882426817735212\n",
      ">> evaluating actor 0\n",
      "len 11 data/608832786432738882426817735212/static/00052.00000.jpg\n",
      "len 12 data/608832786432738882426817735212/static/01356.00000.jpg\n",
      "len 15 data/608832786432738882426817735212/static/01468.00000.jpg\n",
      "len 19 data/608832786432738882426817735212/static/01532.00000.jpg\n",
      ">> evaluating actor 1\n",
      "len 22 data/608832786432738882426817735212/static/01352.00001.jpg\n",
      ">> evaluating actor 2\n",
      "len 13 data/608832786432738882426817735212/static/00340.00002.jpg\n",
      "len 22 data/608832786432738882426817735212/static/00516.00002.jpg\n",
      "len 17 data/608832786432738882426817735212/static/00620.00002.jpg\n",
      "len 45 data/608832786432738882426817735212/static/00752.00002.jpg\n",
      ">> evaluating actor 3\n",
      "len 35 data/608832786432738882426817735212/static/00464.00003.jpg\n",
      ">> evaluating actor 7\n",
      ">> evaluating actor 8\n",
      ">> evaluating actor 6\n",
      ">> evaluating actor 10\n",
      ">> evaluating actor 9\n",
      ">> evaluating actor 5\n",
      ">> evaluating actor 11\n",
      ">>>> 10\n",
      "--------------------------------------------------\n",
      ">> loading folder data/709090324988773024868607674872\n",
      ">> evaluating actor 0\n",
      "len 68 data/709090324988773024868607674872/static/00164.00000.jpg\n",
      "len 36 data/709090324988773024868607674872/static/00576.00000.jpg\n",
      "len 21 data/709090324988773024868607674872/static/00792.00000.jpg\n",
      "len 28 data/709090324988773024868607674872/static/00972.00000.jpg\n",
      "len 30 data/709090324988773024868607674872/static/01128.00000.jpg\n",
      "len 25 data/709090324988773024868607674872/static/01544.00000.jpg\n",
      "len 13 data/709090324988773024868607674872/static/01648.00000.jpg\n",
      "len 24 data/709090324988773024868607674872/static/01704.00000.jpg\n",
      ">> evaluating actor 1\n",
      "len 11 data/709090324988773024868607674872/static/00100.00001.jpg\n",
      "len 15 data/709090324988773024868607674872/static/00464.00001.jpg\n",
      "len 29 data/709090324988773024868607674872/static/01748.00001.jpg\n",
      ">> evaluating actor 2\n",
      ">> evaluating actor 3\n",
      ">>>> 11\n",
      "--------------------------------------------------\n",
      ">> loading folder data/192013595673554746258591115198\n",
      ">>>> 0\n",
      "--------------------------------------------------\n",
      ">> loading folder data/001602115004256813449943694922\n",
      ">> evaluating actor 0\n",
      ">> evaluating actor 1\n",
      ">>>> 0\n",
      "--------------------------------------------------\n",
      ">> loading folder data/547538174468711490516541559363\n",
      ">> evaluating actor 1\n",
      "len 11 data/547538174468711490516541559363/static/00228.00001.jpg\n",
      "len 13 data/547538174468711490516541559363/static/00368.00001.jpg\n",
      "len 15 data/547538174468711490516541559363/static/00632.00001.jpg\n",
      ">> evaluating actor 2\n",
      "len 15 data/547538174468711490516541559363/static/00272.00002.jpg\n",
      "len 15 data/547538174468711490516541559363/static/00360.00002.jpg\n",
      "len 14 data/547538174468711490516541559363/static/00604.00002.jpg\n",
      ">>>> 6\n",
      "--------------------------------------------------\n"
     ]
    }
   ],
   "source": [
    "# get folders\n",
    "folders = glob(\"data/*\")\n",
    "label = \"static\"\n",
    "\n",
    "for folder in folders:\n",
    "    print(\">> loading folder\", folder)    \n",
    "    fnames = sorted(glob(folder + '/' + label + '/*'))  # list of images fname\n",
    "    c = count_faces(fnames)\n",
    "    print(\">>>>\", c)\n",
    "    print(\"-\" * 50)\n"
   ]
  },
  {
   "cell_type": "code",
   "execution_count": 13,
   "metadata": {},
   "outputs": [
    {
     "name": "stdout",
     "output_type": "stream",
     "text": [
      ">> evaluating actor 1\n",
      "len 11 data/547538174468711490516541559363/static/00228.00001.jpg\n",
      "len 13 data/547538174468711490516541559363/static/00368.00001.jpg\n",
      "len 15 data/547538174468711490516541559363/static/00632.00001.jpg\n",
      ">> evaluating actor 2\n",
      "len 15 data/547538174468711490516541559363/static/00272.00002.jpg\n",
      "len 15 data/547538174468711490516541559363/static/00360.00002.jpg\n",
      "len 14 data/547538174468711490516541559363/static/00604.00002.jpg\n"
     ]
    }
   ],
   "source": [
    "label = \"static\"\n",
    "folder = \"data/547538174468711490516541559363\"\n",
    "fnames = sorted(glob(folder + '/' + label + '/*'))\n",
    "c = count_faces(fnames)"
   ]
  },
  {
   "cell_type": "code",
   "execution_count": 14,
   "metadata": {},
   "outputs": [
    {
     "data": {
      "text/plain": [
       "6"
      ]
     },
     "execution_count": 14,
     "metadata": {},
     "output_type": "execute_result"
    }
   ],
   "source": [
    "c"
   ]
  },
  {
   "cell_type": "code",
   "execution_count": null,
   "metadata": {},
   "outputs": [],
   "source": []
  }
 ],
 "metadata": {
  "kernelspec": {
   "display_name": "Python 3",
   "language": "python",
   "name": "python3"
  },
  "language_info": {
   "codemirror_mode": {
    "name": "ipython",
    "version": 3
   },
   "file_extension": ".py",
   "mimetype": "text/x-python",
   "name": "python",
   "nbconvert_exporter": "python",
   "pygments_lexer": "ipython3",
   "version": "3.8.3"
  }
 },
 "nbformat": 4,
 "nbformat_minor": 4
}
