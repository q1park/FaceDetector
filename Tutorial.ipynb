{
 "cells": [
  {
   "cell_type": "code",
   "execution_count": 5,
   "metadata": {},
   "outputs": [],
   "source": [
    "from glob import glob\n",
    "\n",
    "from FaceOff import count_faces"
   ]
  },
  {
   "cell_type": "markdown",
   "metadata": {},
   "source": [
    "# Example 1: Non-static faces"
   ]
  },
  {
   "cell_type": "code",
   "execution_count": 9,
   "metadata": {},
   "outputs": [
    {
     "name": "stdout",
     "output_type": "stream",
     "text": [
      ">> loading folder data/608832786432738882426817735212\n",
      ">> evaluating actor 0\n",
      ">> evaluating actor 1\n",
      ">> evaluating actor 2\n",
      ">> evaluating actor 3\n",
      ">> evaluating actor 4\n",
      ">> evaluating actor 5\n",
      ">> evaluating actor 6\n",
      ">> evaluating actor 7\n",
      ">> evaluating actor 8\n",
      ">> evaluating actor 9\n",
      ">> evaluating actor 10\n",
      ">> evaluating actor 11\n",
      "--------------------------------------------------\n",
      ">> loading folder data/026222733229357032096260333663\n",
      ">> evaluating actor 0\n",
      "len 16 data/026222733229357032096260333663/not_static/00252.00000.jpg\n",
      "len 14 data/026222733229357032096260333663/not_static/01108.00000.jpg\n",
      "len 11 data/026222733229357032096260333663/not_static/01192.00000.jpg\n",
      "len 17 data/026222733229357032096260333663/not_static/01504.00000.jpg\n",
      "len 14 data/026222733229357032096260333663/not_static/01780.00000.jpg\n",
      "len 11 data/026222733229357032096260333663/not_static/01888.00000.jpg\n",
      "len 32 data/026222733229357032096260333663/not_static/02428.00000.jpg\n",
      ">> evaluating actor 1\n",
      "len 12 data/026222733229357032096260333663/not_static/00220.00001.jpg\n",
      ">> evaluating actor 3\n",
      ">> evaluating actor 2\n",
      ">> evaluating actor 5\n",
      "--------------------------------------------------\n",
      ">> loading folder data/126925950871386608881203157428\n",
      ">> evaluating actor 0\n",
      "--------------------------------------------------\n",
      ">> loading folder data/172902496309112423897163232087\n",
      ">> evaluating actor 0\n",
      ">> evaluating actor 1\n",
      ">> evaluating actor 2\n",
      "--------------------------------------------------\n",
      ">> loading folder data/709090324988773024868607674872\n"
     ]
    },
    {
     "ename": "ValueError",
     "evalue": "Empty folder.",
     "output_type": "error",
     "traceback": [
      "\u001b[0;31m---------------------------------------------------------------------------\u001b[0m",
      "\u001b[0;31mValueError\u001b[0m                                Traceback (most recent call last)",
      "\u001b[0;32m<ipython-input-9-5dadda78c2e3>\u001b[0m in \u001b[0;36m<module>\u001b[0;34m\u001b[0m\n\u001b[1;32m      5\u001b[0m     \u001b[0mprint\u001b[0m\u001b[0;34m(\u001b[0m\u001b[0;34m\">> loading folder\"\u001b[0m\u001b[0;34m,\u001b[0m \u001b[0mfolder\u001b[0m\u001b[0;34m)\u001b[0m\u001b[0;34m\u001b[0m\u001b[0;34m\u001b[0m\u001b[0m\n\u001b[1;32m      6\u001b[0m     \u001b[0mfnames\u001b[0m \u001b[0;34m=\u001b[0m \u001b[0msorted\u001b[0m\u001b[0;34m(\u001b[0m\u001b[0mglob\u001b[0m\u001b[0;34m(\u001b[0m\u001b[0mfolder\u001b[0m \u001b[0;34m+\u001b[0m \u001b[0;34m'/'\u001b[0m \u001b[0;34m+\u001b[0m \u001b[0mlabel\u001b[0m \u001b[0;34m+\u001b[0m \u001b[0;34m'/*'\u001b[0m\u001b[0;34m)\u001b[0m\u001b[0;34m)\u001b[0m  \u001b[0;31m# list of images fname\u001b[0m\u001b[0;34m\u001b[0m\u001b[0;34m\u001b[0m\u001b[0m\n\u001b[0;32m----> 7\u001b[0;31m     \u001b[0mcount_faces\u001b[0m\u001b[0;34m(\u001b[0m\u001b[0mfnames\u001b[0m\u001b[0;34m)\u001b[0m\u001b[0;34m\u001b[0m\u001b[0;34m\u001b[0m\u001b[0m\n\u001b[0m\u001b[1;32m      8\u001b[0m     \u001b[0mprint\u001b[0m\u001b[0;34m(\u001b[0m\u001b[0;34m\"-\"\u001b[0m \u001b[0;34m*\u001b[0m \u001b[0;36m50\u001b[0m\u001b[0;34m)\u001b[0m\u001b[0;34m\u001b[0m\u001b[0;34m\u001b[0m\u001b[0m\n",
      "\u001b[0;32m~/Dropbox/Temp/FaceDetector/FaceOff/base.py\u001b[0m in \u001b[0;36mcount_faces\u001b[0;34m(fnames)\u001b[0m\n\u001b[1;32m     10\u001b[0m     \"\"\"\n\u001b[1;32m     11\u001b[0m     \u001b[0;32mif\u001b[0m \u001b[0mlen\u001b[0m\u001b[0;34m(\u001b[0m\u001b[0mfnames\u001b[0m\u001b[0;34m)\u001b[0m \u001b[0;34m==\u001b[0m \u001b[0;36m0\u001b[0m\u001b[0;34m:\u001b[0m\u001b[0;34m\u001b[0m\u001b[0;34m\u001b[0m\u001b[0m\n\u001b[0;32m---> 12\u001b[0;31m         \u001b[0;32mraise\u001b[0m \u001b[0mValueError\u001b[0m\u001b[0;34m(\u001b[0m\u001b[0;34m\"Empty folder.\"\u001b[0m\u001b[0;34m)\u001b[0m\u001b[0;34m\u001b[0m\u001b[0;34m\u001b[0m\u001b[0m\n\u001b[0m\u001b[1;32m     13\u001b[0m \u001b[0;34m\u001b[0m\u001b[0m\n\u001b[1;32m     14\u001b[0m     \u001b[0mn_static_faces\u001b[0m \u001b[0;34m=\u001b[0m \u001b[0;36m0\u001b[0m\u001b[0;34m\u001b[0m\u001b[0;34m\u001b[0m\u001b[0m\n",
      "\u001b[0;31mValueError\u001b[0m: Empty folder."
     ]
    }
   ],
   "source": [
    "folders = glob(\"data/*\")\n",
    "label = \"not_static\"\n",
    "\n",
    "for folder in folders:\n",
    "    print(\">> loading folder\", folder)    \n",
    "    fnames = sorted(glob(folder + '/' + label + '/*'))  # list of images fname\n",
    "    count_faces(fnames)\n",
    "    print(\"-\" * 50)"
   ]
  },
  {
   "cell_type": "code",
   "execution_count": null,
   "metadata": {},
   "outputs": [],
   "source": []
  }
 ],
 "metadata": {
  "kernelspec": {
   "display_name": "Python 3",
   "language": "python",
   "name": "python3"
  },
  "language_info": {
   "codemirror_mode": {
    "name": "ipython",
    "version": 3
   },
   "file_extension": ".py",
   "mimetype": "text/x-python",
   "name": "python",
   "nbconvert_exporter": "python",
   "pygments_lexer": "ipython3",
   "version": "3.8.3"
  }
 },
 "nbformat": 4,
 "nbformat_minor": 4
}
