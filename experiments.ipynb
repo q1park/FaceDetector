{
 "cells": [
  {
   "cell_type": "code",
   "execution_count": 1,
   "metadata": {},
   "outputs": [],
   "source": [
    "from IPython.core.interactiveshell import InteractiveShell\n",
    "InteractiveShell.ast_node_interactivity = \"all\""
   ]
  },
  {
   "cell_type": "code",
   "execution_count": 2,
   "metadata": {},
   "outputs": [],
   "source": [
    "import datetime\n",
    "import torch"
   ]
  },
  {
   "cell_type": "markdown",
   "metadata": {},
   "source": [
    "# Data Munging"
   ]
  },
  {
   "cell_type": "code",
   "execution_count": 3,
   "metadata": {},
   "outputs": [],
   "source": [
    "from src.data_utils import convert_to_h5, train_test_split_face"
   ]
  },
  {
   "cell_type": "code",
   "execution_count": 4,
   "metadata": {},
   "outputs": [],
   "source": [
    "device = 'cuda' if torch.cuda.is_available() else 'cpu'\n",
    "data_dir = './data'"
   ]
  },
  {
   "cell_type": "code",
   "execution_count": 5,
   "metadata": {},
   "outputs": [],
   "source": [
    "# convert_to_h5(data_dir)\n",
    "# train_test_split_face(data_dir, face_id=1)"
   ]
  },
  {
   "cell_type": "markdown",
   "metadata": {},
   "source": [
    "# Convolutional Features"
   ]
  },
  {
   "cell_type": "code",
   "execution_count": 6,
   "metadata": {},
   "outputs": [],
   "source": [
    "import torch.nn as nn\n",
    "from torch import optim"
   ]
  },
  {
   "cell_type": "code",
   "execution_count": 7,
   "metadata": {},
   "outputs": [],
   "source": [
    "from src.modules import ResNetSimple\n",
    "from src.data_utils import VideoDataset\n",
    "from src.spatial_transforms import (Compose, Normalize, Scale, ToTensor)\n",
    "from src.temporal_transforms import LoopPadding\n",
    "\n",
    "sample_duration=10\n",
    "mean, std = [0.43216, 0.394666, 0.37645], [0.22803, 0.22145, 0.216989]\n",
    "\n",
    "spatial_transform = Compose([Scale(200), ToTensor(), Normalize(mean, std)])\n",
    "temporal_transform = LoopPadding(sample_duration)"
   ]
  },
  {
   "cell_type": "code",
   "execution_count": 11,
   "metadata": {},
   "outputs": [],
   "source": [
    "print_every = 1\n",
    "epochs = 5\n",
    "\n",
    "mod = ResNetSimple(device=device)\n",
    "mod.to(device)\n",
    "model = nn.DataParallel(mod)\n",
    "pass;"
   ]
  },
  {
   "cell_type": "code",
   "execution_count": 12,
   "metadata": {},
   "outputs": [],
   "source": [
    "optimizer = torch.optim.Adam(model.parameters(), lr=0.0001, betas=(0.9, 0.98), eps=1e-9)\n",
    "criterion = nn.CrossEntropyLoss()\n",
    "\n",
    "trainset = VideoDataset(device=device,\n",
    "    h5_path=data_dir+'/train_1.h5', \n",
    "    sample_duration=sample_duration,\n",
    "    spatial_transform=spatial_transform, \n",
    "    temporal_transform=temporal_transform,\n",
    ")\n",
    "\n",
    "testset = VideoDataset(device=device,\n",
    "    h5_path=data_dir+'/test_1.h5', \n",
    "    sample_duration=sample_duration,\n",
    "    spatial_transform=spatial_transform, \n",
    "    temporal_transform=temporal_transform\n",
    ")\n",
    "\n",
    "trainloader = torch.utils.data.DataLoader(trainset, batch_size=30, shuffle=True)\n",
    "testloader = torch.utils.data.DataLoader(testset, batch_size=30, shuffle=False)\n",
    "pass;"
   ]
  },
  {
   "cell_type": "code",
   "execution_count": 13,
   "metadata": {},
   "outputs": [
    {
     "data": {
      "text/plain": [
       "Counter({1: 520, 0: 10})"
      ]
     },
     "execution_count": 13,
     "metadata": {},
     "output_type": "execute_result"
    },
    {
     "data": {
      "text/plain": [
       "Counter({1: 265, 0: 10})"
      ]
     },
     "execution_count": 13,
     "metadata": {},
     "output_type": "execute_result"
    }
   ],
   "source": [
    "from collections import Counter\n",
    "\n",
    "Counter([x['label'].detach().item() for x in trainset])\n",
    "Counter([x['label'].detach().item() for x in testset])"
   ]
  },
  {
   "cell_type": "code",
   "execution_count": 14,
   "metadata": {
    "scrolled": true
   },
   "outputs": [
    {
     "name": "stdout",
     "output_type": "stream",
     "text": [
      "Start Time: 08:59:03\n",
      "Step: 0000 || Train Loss: 0.604\n",
      "Step: 0005 || Train Loss: 0.487\n",
      "Step: 0010 || Train Loss: 0.358\n",
      "Step: 0015 || Train Loss: 0.308\n",
      "Epoch 000 || Train Loss: 0.405 || Test Loss: 0.361\n",
      "Step: 0000 || Train Loss: 0.364\n",
      "Step: 0005 || Train Loss: 0.222\n",
      "Step: 0010 || Train Loss: 0.144\n",
      "Step: 0015 || Train Loss: 0.107\n",
      "Epoch 001 || Train Loss: 0.178 || Test Loss: 0.334\n",
      "Step: 0000 || Train Loss: 0.159\n",
      "Step: 0005 || Train Loss: 0.174\n",
      "Step: 0010 || Train Loss: 0.061\n",
      "Step: 0015 || Train Loss: 0.046\n",
      "Epoch 002 || Train Loss: 0.112 || Test Loss: 0.347\n",
      "Step: 0000 || Train Loss: 0.050\n",
      "Step: 0005 || Train Loss: 0.118\n",
      "Step: 0010 || Train Loss: 0.111\n",
      "Step: 0015 || Train Loss: 0.036\n",
      "Epoch 003 || Train Loss: 0.094 || Test Loss: 0.346\n",
      "Step: 0000 || Train Loss: 0.034\n",
      "Step: 0005 || Train Loss: 0.113\n",
      "Step: 0010 || Train Loss: 0.027\n",
      "Step: 0015 || Train Loss: 0.194\n",
      "Epoch 004 || Train Loss: 0.085 || Test Loss: 0.344\n",
      "End Time: 09:04:02\n",
      "Completed in 299.808974 seconds\n"
     ]
    }
   ],
   "source": [
    "time_start = datetime.datetime.now()\n",
    "print('Start Time: %s'%time_start.strftime('%H:%M:%S'))\n",
    "\n",
    "for epoch in range(0, epochs):\n",
    "    epoch_start = datetime.datetime.now()\n",
    "    model.train();\n",
    "    train_loss = 0.0\n",
    "    test_loss = 0.0\n",
    "    train_nbatches = 0\n",
    "    test_nbatches = 0\n",
    "    \n",
    "    step = 0\n",
    "    for inputs in trainloader:\n",
    "        preds = model(**inputs)\n",
    "\n",
    "        loss = criterion(preds, inputs['label'].squeeze())\n",
    "        loss.backward()\n",
    "        optimizer.step()\n",
    "        optimizer.zero_grad()\n",
    "        \n",
    "        if step%5==0:\n",
    "            print('Step: {} || Train Loss: {:.3f}'.format(str(step).zfill(4), loss.item()))\n",
    "        step+=1\n",
    "        \n",
    "        train_loss += float(loss)\n",
    "        train_nbatches += 1\n",
    "    \n",
    "    model.eval();\n",
    "    with torch.no_grad():\n",
    "        for inputs in testloader:\n",
    "            preds = model(**inputs)\n",
    "            loss = criterion(preds, inputs['label'].squeeze())\n",
    "            test_loss += float(loss)\n",
    "            test_nbatches += 1\n",
    "\n",
    "    train_loss/=train_nbatches\n",
    "    test_loss/=test_nbatches\n",
    "    \n",
    "    if epoch%print_every == 0:\n",
    "        print('Epoch {} || Train Loss: {:.3f} || Test Loss: {:.3f}'.format(\n",
    "            str(epoch).zfill(3), train_loss, test_loss)\n",
    "             )\n",
    "time_finish = datetime.datetime.now()\n",
    "print('End Time: %s'%time_finish.strftime('%H:%M:%S'))\n",
    "print('Completed in %s seconds'%(time_finish-time_start).total_seconds())\n",
    "torch.save(model.state_dict(), 'checkpoints/res_nonlinear_1.pt')\n",
    "pass;"
   ]
  },
  {
   "cell_type": "markdown",
   "metadata": {},
   "source": [
    "# Evaluate Model"
   ]
  },
  {
   "cell_type": "code",
   "execution_count": 15,
   "metadata": {},
   "outputs": [],
   "source": [
    "import matplotlib.pyplot as plt\n",
    "from src.metrics import make_ROC, make_PR"
   ]
  },
  {
   "cell_type": "code",
   "execution_count": 16,
   "metadata": {},
   "outputs": [],
   "source": [
    "# model = ResNetSimple(device=device)\n",
    "# model.to(device)\n",
    "# model.load_state_dict(torch.load('checkpoints/res_nonlinear_1.pt'))\n",
    "# pass;"
   ]
  },
  {
   "cell_type": "code",
   "execution_count": 37,
   "metadata": {},
   "outputs": [],
   "source": [
    "devset = VideoDataset(device=device,\n",
    "    h5_path=data_dir+'/test_1.h5', \n",
    "    sample_duration=sample_duration,\n",
    "    spatial_transform=spatial_transform, \n",
    "    temporal_transform=temporal_transform\n",
    ")\n",
    "\n",
    "devloader = torch.utils.data.DataLoader(devset, batch_size=20, shuffle=True)"
   ]
  },
  {
   "cell_type": "code",
   "execution_count": 38,
   "metadata": {},
   "outputs": [],
   "source": [
    "all_preds = []\n",
    "all_labels = []\n",
    "\n",
    "for dev in devloader:\n",
    "    all_preds.append(model(**dev).cpu())\n",
    "    all_labels.append(dev['label'].cpu())"
   ]
  },
  {
   "cell_type": "code",
   "execution_count": 39,
   "metadata": {},
   "outputs": [
    {
     "name": "stdout",
     "output_type": "stream",
     "text": [
      "ROC AUC=0.825\n"
     ]
    },
    {
     "data": {
      "image/png": "[encoded data removed]",
      "text/plain": [
       "<Figure size 432x288 with 1 Axes>"
      ]
     },
     "metadata": {
      "needs_background": "light"
     },
     "output_type": "display_data"
    }
   ],
   "source": [
    "make_ROC(torch.cat(all_preds, dim=0), torch.cat(all_labels, dim=0))"
   ]
  },
  {
   "cell_type": "code",
   "execution_count": 40,
   "metadata": {},
   "outputs": [
    {
     "name": "stdout",
     "output_type": "stream",
     "text": [
      "PR AUC=0.992\n"
     ]
    },
    {
     "data": {
      "image/png": "[encoded data removed]",
      "text/plain": [
       "<Figure size 432x288 with 1 Axes>"
      ]
     },
     "metadata": {
      "needs_background": "light"
     },
     "output_type": "display_data"
    }
   ],
   "source": [
    "make_PR(torch.cat(all_preds, dim=0), torch.cat(all_labels, dim=0))"
   ]
  },
  {
   "cell_type": "code",
   "execution_count": null,
   "metadata": {},
   "outputs": [],
   "source": [
    "blah"
   ]
  },
  {
   "cell_type": "markdown",
   "metadata": {},
   "source": [
    "# Optical Flow Features"
   ]
  },
  {
   "cell_type": "code",
   "execution_count": null,
   "metadata": {},
   "outputs": [],
   "source": [
    "with h5py.File(os.path.join('static_dataset', 'data.h5'), 'r') as f:\n",
    "    testvid = f['00000'][:]"
   ]
  },
  {
   "cell_type": "code",
   "execution_count": null,
   "metadata": {},
   "outputs": [],
   "source": [
    "def compute_optical_flow(frames):\n",
    "    flow_array = np.empty(frames.shape).astype(np.uint8)\n",
    "    first_frame = frames[0]\n",
    "    prev_gray = cv2.cvtColor(first_frame, cv2.COLOR_BGR2GRAY) \n",
    "    \n",
    "    mask = np.zeros_like(first_frame) \n",
    "    # Sets image saturation to maximum \n",
    "    mask[..., 1] = 255\n",
    "    \n",
    "    n = 0\n",
    "    \n",
    "    for frame in frames:\n",
    "\n",
    "        # Converts each frame to grayscale - we previously  \n",
    "        # only converted the first frame to grayscale \n",
    "        gray = cv2.cvtColor(frame, cv2.COLOR_BGR2GRAY) \n",
    "\n",
    "        # Calculates dense optical flow by Farneback method \n",
    "        flow = cv2.calcOpticalFlowFarneback(prev_gray, gray, None, 0.5, 3, 15, 3, 5, 1.2, 0) \n",
    "\n",
    "        # Computes the magnitude and angle of the 2D vectors \n",
    "        magnitude, angle = cv2.cartToPolar(flow[..., 0], flow[..., 1]) \n",
    "\n",
    "        # Sets image hue according to the optical flow  \n",
    "        # direction \n",
    "        mask[..., 0] = angle * 180 / np.pi / 2\n",
    "\n",
    "        # Sets image value according to the optical flow \n",
    "        # magnitude (normalized) \n",
    "        mask[..., 2] = cv2.normalize(magnitude, None, 0, 255, cv2.NORM_MINMAX) \n",
    "\n",
    "        # Converts HSV to RGB (BGR) color representation \n",
    "        rgb = cv2.cvtColor(mask, cv2.COLOR_HSV2BGR) \n",
    "        flow_array[n] = rgb\n",
    "        n+=1\n",
    "        # Opens a new window and displays the output frame \n",
    "\n",
    "        # Updates previous frame \n",
    "        prev_gray = gray \n",
    "    return flow_array\n",
    "\n",
    "import numpy as np\n",
    "import scipy.stats as stats\n",
    "\n",
    "def compute_power(image):\n",
    "    image = np.sum(image, axis=-1)\n",
    "    h, w = image.shape\n",
    "    \n",
    "    fourier_image = np.fft.fftn(image)\n",
    "    fourier_amplitudes = np.abs(fourier_image)**2\n",
    "    \n",
    "    kfreq = np.fft.fftfreq(h) * w\n",
    "    kfreq2D = np.meshgrid(kfreq, kfreq)\n",
    "    \n",
    "    knrm = np.sqrt(kfreq2D[0]**2 + kfreq2D[1]**2).flatten()\n",
    "    fourier_amplitudes = fourier_amplitudes.flatten()\n",
    "\n",
    "    kbins = np.arange(0.5, int(h/2)+1, 1.)\n",
    "    kvals = 0.5 * (kbins[1:] + kbins[:-1])\n",
    "    \n",
    "    Abins, _, _ = stats.binned_statistic(knrm, fourier_amplitudes, statistic = \"mean\", bins = kbins)\n",
    "    Abins *= 4. * np.pi / 3. * (kbins[1:]**3 - kbins[:-1]**3)\n",
    "    return kvals, Abins"
   ]
  },
  {
   "cell_type": "code",
   "execution_count": null,
   "metadata": {},
   "outputs": [],
   "source": [
    "flows = compute_optical_flow(testvid)"
   ]
  },
  {
   "cell_type": "code",
   "execution_count": null,
   "metadata": {},
   "outputs": [],
   "source": [
    "import pylab as pl\n",
    "\n",
    "pl.loglog(*compute_power(flows[15]))\n",
    "pl.xlabel(\"$k$\")\n",
    "pl.ylabel(\"$P(k)$\")\n",
    "pl.tight_layout()\n",
    "# pl.savefig(\"cloud_power_spectrum.png\", dpi = 300, bbox_inches = \"tight\")"
   ]
  },
  {
   "cell_type": "code",
   "execution_count": null,
   "metadata": {},
   "outputs": [],
   "source": [
    "from PIL import Image"
   ]
  },
  {
   "cell_type": "code",
   "execution_count": null,
   "metadata": {},
   "outputs": [],
   "source": [
    "Image.fromarray(flows[15])"
   ]
  },
  {
   "cell_type": "code",
   "execution_count": null,
   "metadata": {},
   "outputs": [],
   "source": [
    "Image.fromarray(testvid[15])"
   ]
  },
  {
   "cell_type": "code",
   "execution_count": null,
   "metadata": {},
   "outputs": [],
   "source": []
  }
 ],
 "metadata": {
  "kernelspec": {
   "display_name": "py36",
   "language": "python",
   "name": "py36"
  },
  "language_info": {
   "codemirror_mode": {
    "name": "ipython",
    "version": 3
   },
   "file_extension": ".py",
   "mimetype": "text/x-python",
   "name": "python",
   "nbconvert_exporter": "python",
   "pygments_lexer": "ipython3",
   "version": "3.6.12"
  }
 },
 "nbformat": 4,
 "nbformat_minor": 4
}
